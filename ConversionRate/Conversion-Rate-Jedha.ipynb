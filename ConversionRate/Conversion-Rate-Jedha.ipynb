{
 "cells": [
  {
   "cell_type": "markdown",
   "metadata": {},
   "source": [
    "# Conversion Rate Challenge\n",
    "## Goal\n",
    "The goal of this project is to predict the conversion rate and provide recommendations for the product team and marketing team to improve the conversion rate.\n",
    "\n",
    "## Data Information\n",
    "The dataset includes the following features:\n",
    "\n",
    "- **Country**: User country based.\n",
    "- **Age**: User age.\n",
    "- **New User**: Indicates whether the user created the account during this session or had already an account and simply came back to the site.\n",
    "- **Source**: Marketing channel source, which can be:\n",
    "  - *Ads*: Came to the site by clicking on an advertisement.\n",
    "  - *SEO*: Came to the site by clicking on search results.\n",
    "  - *Direct*: Came to the site by directly typing the URL on the browser.\n",
    "- **Total Pages Visited**: Number of total pages visited during the session.\n",
    "- **Converted**: Binary variable where 1 means the user converted and 0 means they did not.\n",
    "\n",
    "## Approach\n",
    "1. **Data Exploration**: Analyze the dataset to understand the distribution of features and relationships between variables.\n",
    "2. **Data Preprocessing**: encode categorical variables, and scale numerical features if necessary.\n",
    "3. **Model Training and Selection**: Experiment with different machine learning algorithms such as logistic regression, random forest, decision tree and XGBoostt to find the best model for predicting conversion rate.\n",
    "4. **Train conversion_data_test**: Use the selected model\n",
    "\n",
    "Project by Eugenia Mellano\n",
    "\n"
   ]
  },
  {
   "cell_type": "code",
   "execution_count": 2,
   "metadata": {},
   "outputs": [],
   "source": [
    "import pandas as pd\n",
    "import numpy as np\n",
    "import seaborn as sns\n",
    "import matplotlib.pyplot as plt\n",
    "from sklearn.model_selection import train_test_split\n",
    "from sklearn.impute import SimpleImputer, KNNImputer\n",
    "from sklearn.preprocessing import StandardScaler, OneHotEncoder\n",
    "from sklearn.compose import ColumnTransformer\n",
    "from sklearn.linear_model import LogisticRegression, LinearRegression, Lasso, Ridge\n",
    "from xgboost import XGBClassifier\n",
    "from sklearn.metrics import f1_score, confusion_matrix, accuracy_score, classification_report, precision_score, recall_score, ConfusionMatrixDisplay, RocCurveDisplay\n",
    "from sklearn.model_selection import cross_val_score, GridSearchCV\n",
    "from sklearn.pipeline import Pipeline\n",
    "from sklearn.ensemble import RandomForestClassifier, BaggingClassifier, AdaBoostClassifier, GradientBoostingClassifier, StackingClassifier\n",
    "from sklearn.tree import DecisionTreeClassifier\n",
    "import plotly.express as px\n",
    "import plotly.graph_objects as go\n",
    "import plotly.io as pio\n",
    "import warnings\n",
    "warnings.filterwarnings('ignore')\n",
    "# setting Jedha color palette as default\n",
    "pio.templates[\"jedha\"] = go.layout.Template(\n",
    "    layout_colorway=[\"#4B9AC7\", \"#4BE8E0\", \"#9DD4F3\", \"#97FBF6\", \"#2A7FAF\", \"#23B1AB\", \"#0E3449\", \"#015955\"]\n",
    ")\n",
    "pio.templates.default = \"jedha\"\n",
    "pio.renderers.default = \"svg\" # to be replaced by \"iframe\" if working on JULIE\n",
    "from IPython.display import display"
   ]
  },
  {
   "cell_type": "markdown",
   "metadata": {},
   "source": [
    "## Data Exploration"
   ]
  },
  {
   "cell_type": "code",
   "execution_count": 3,
   "metadata": {},
   "outputs": [
    {
     "name": "stdout",
     "output_type": "stream",
     "text": [
      "Set with labels (our train+test) : (284580, 6)\n"
     ]
    }
   ],
   "source": [
    "data = pd.read_csv('conversion_data_train.csv')\n",
    "print('Set with labels (our train+test) :', data.shape)"
   ]
  },
  {
   "cell_type": "code",
   "execution_count": 4,
   "metadata": {},
   "outputs": [
    {
     "data": {
      "text/html": [
       "<div>\n",
       "<style scoped>\n",
       "    .dataframe tbody tr th:only-of-type {\n",
       "        vertical-align: middle;\n",
       "    }\n",
       "\n",
       "    .dataframe tbody tr th {\n",
       "        vertical-align: top;\n",
       "    }\n",
       "\n",
       "    .dataframe thead th {\n",
       "        text-align: right;\n",
       "    }\n",
       "</style>\n",
       "<table border=\"1\" class=\"dataframe\">\n",
       "  <thead>\n",
       "    <tr style=\"text-align: right;\">\n",
       "      <th></th>\n",
       "      <th>country</th>\n",
       "      <th>age</th>\n",
       "      <th>new_user</th>\n",
       "      <th>source</th>\n",
       "      <th>total_pages_visited</th>\n",
       "      <th>converted</th>\n",
       "    </tr>\n",
       "  </thead>\n",
       "  <tbody>\n",
       "    <tr>\n",
       "      <th>0</th>\n",
       "      <td>China</td>\n",
       "      <td>22</td>\n",
       "      <td>1</td>\n",
       "      <td>Direct</td>\n",
       "      <td>2</td>\n",
       "      <td>0</td>\n",
       "    </tr>\n",
       "    <tr>\n",
       "      <th>1</th>\n",
       "      <td>UK</td>\n",
       "      <td>21</td>\n",
       "      <td>1</td>\n",
       "      <td>Ads</td>\n",
       "      <td>3</td>\n",
       "      <td>0</td>\n",
       "    </tr>\n",
       "    <tr>\n",
       "      <th>2</th>\n",
       "      <td>Germany</td>\n",
       "      <td>20</td>\n",
       "      <td>0</td>\n",
       "      <td>Seo</td>\n",
       "      <td>14</td>\n",
       "      <td>1</td>\n",
       "    </tr>\n",
       "    <tr>\n",
       "      <th>3</th>\n",
       "      <td>US</td>\n",
       "      <td>23</td>\n",
       "      <td>1</td>\n",
       "      <td>Seo</td>\n",
       "      <td>3</td>\n",
       "      <td>0</td>\n",
       "    </tr>\n",
       "    <tr>\n",
       "      <th>4</th>\n",
       "      <td>US</td>\n",
       "      <td>28</td>\n",
       "      <td>1</td>\n",
       "      <td>Direct</td>\n",
       "      <td>3</td>\n",
       "      <td>0</td>\n",
       "    </tr>\n",
       "  </tbody>\n",
       "</table>\n",
       "</div>"
      ],
      "text/plain": [
       "   country  age  new_user  source  total_pages_visited  converted\n",
       "0    China   22         1  Direct                    2          0\n",
       "1       UK   21         1     Ads                    3          0\n",
       "2  Germany   20         0     Seo                   14          1\n",
       "3       US   23         1     Seo                    3          0\n",
       "4       US   28         1  Direct                    3          0"
      ]
     },
     "execution_count": 4,
     "metadata": {},
     "output_type": "execute_result"
    }
   ],
   "source": [
    "data.head()"
   ]
  },
  {
   "cell_type": "code",
   "execution_count": 5,
   "metadata": {},
   "outputs": [
    {
     "data": {
      "text/html": [
       "<div>\n",
       "<style scoped>\n",
       "    .dataframe tbody tr th:only-of-type {\n",
       "        vertical-align: middle;\n",
       "    }\n",
       "\n",
       "    .dataframe tbody tr th {\n",
       "        vertical-align: top;\n",
       "    }\n",
       "\n",
       "    .dataframe thead th {\n",
       "        text-align: right;\n",
       "    }\n",
       "</style>\n",
       "<table border=\"1\" class=\"dataframe\">\n",
       "  <thead>\n",
       "    <tr style=\"text-align: right;\">\n",
       "      <th></th>\n",
       "      <th>age</th>\n",
       "      <th>new_user</th>\n",
       "      <th>total_pages_visited</th>\n",
       "      <th>converted</th>\n",
       "    </tr>\n",
       "  </thead>\n",
       "  <tbody>\n",
       "    <tr>\n",
       "      <th>count</th>\n",
       "      <td>284580.000000</td>\n",
       "      <td>284580.000000</td>\n",
       "      <td>284580.000000</td>\n",
       "      <td>284580.000000</td>\n",
       "    </tr>\n",
       "    <tr>\n",
       "      <th>mean</th>\n",
       "      <td>30.564203</td>\n",
       "      <td>0.685452</td>\n",
       "      <td>4.873252</td>\n",
       "      <td>0.032258</td>\n",
       "    </tr>\n",
       "    <tr>\n",
       "      <th>std</th>\n",
       "      <td>8.266789</td>\n",
       "      <td>0.464336</td>\n",
       "      <td>3.341995</td>\n",
       "      <td>0.176685</td>\n",
       "    </tr>\n",
       "    <tr>\n",
       "      <th>min</th>\n",
       "      <td>17.000000</td>\n",
       "      <td>0.000000</td>\n",
       "      <td>1.000000</td>\n",
       "      <td>0.000000</td>\n",
       "    </tr>\n",
       "    <tr>\n",
       "      <th>25%</th>\n",
       "      <td>24.000000</td>\n",
       "      <td>0.000000</td>\n",
       "      <td>2.000000</td>\n",
       "      <td>0.000000</td>\n",
       "    </tr>\n",
       "    <tr>\n",
       "      <th>50%</th>\n",
       "      <td>30.000000</td>\n",
       "      <td>1.000000</td>\n",
       "      <td>4.000000</td>\n",
       "      <td>0.000000</td>\n",
       "    </tr>\n",
       "    <tr>\n",
       "      <th>75%</th>\n",
       "      <td>36.000000</td>\n",
       "      <td>1.000000</td>\n",
       "      <td>7.000000</td>\n",
       "      <td>0.000000</td>\n",
       "    </tr>\n",
       "    <tr>\n",
       "      <th>max</th>\n",
       "      <td>123.000000</td>\n",
       "      <td>1.000000</td>\n",
       "      <td>29.000000</td>\n",
       "      <td>1.000000</td>\n",
       "    </tr>\n",
       "  </tbody>\n",
       "</table>\n",
       "</div>"
      ],
      "text/plain": [
       "                 age       new_user  total_pages_visited      converted\n",
       "count  284580.000000  284580.000000        284580.000000  284580.000000\n",
       "mean       30.564203       0.685452             4.873252       0.032258\n",
       "std         8.266789       0.464336             3.341995       0.176685\n",
       "min        17.000000       0.000000             1.000000       0.000000\n",
       "25%        24.000000       0.000000             2.000000       0.000000\n",
       "50%        30.000000       1.000000             4.000000       0.000000\n",
       "75%        36.000000       1.000000             7.000000       0.000000\n",
       "max       123.000000       1.000000            29.000000       1.000000"
      ]
     },
     "execution_count": 5,
     "metadata": {},
     "output_type": "execute_result"
    }
   ],
   "source": [
    "data.describe()"
   ]
  },
  {
   "cell_type": "markdown",
   "metadata": {},
   "source": [
    "- Age: the range is between 17 and 79 years and most people are between 24 and 36 years old (50% of the data).\n",
    "- New User:Approximately 68.55% are new users.\n",
    "- Total Pages Visited: Most people visit between 2 and 7 pages (interquartile range).The number of pages visited per session varies, with most users visiting a moderate number of pages.\n",
    "- Conversion Rate: Approximately 3.23% of users convert.The conversion rate is relatively low, suggesting areas for improvement in conversion strategies or user experience."
   ]
  },
  {
   "cell_type": "code",
   "execution_count": 6,
   "metadata": {},
   "outputs": [
    {
     "name": "stdout",
     "output_type": "stream",
     "text": [
      "missing values: \n"
     ]
    },
    {
     "data": {
      "text/plain": [
       "country                0\n",
       "age                    0\n",
       "new_user               0\n",
       "source                 0\n",
       "total_pages_visited    0\n",
       "converted              0\n",
       "dtype: int64"
      ]
     },
     "execution_count": 6,
     "metadata": {},
     "output_type": "execute_result"
    }
   ],
   "source": [
    "print(\"missing values: \")\n",
    "data.isna().sum()"
   ]
  },
  {
   "cell_type": "code",
   "execution_count": 7,
   "metadata": {},
   "outputs": [
    {
     "data": {
      "text/plain": [
       "(284578, 6)"
      ]
     },
     "execution_count": 7,
     "metadata": {},
     "output_type": "execute_result"
    }
   ],
   "source": [
    "#dropping outliers of age\n",
    "data = data[data['age'] < 100]\n",
    "data.shape"
   ]
  },
  {
   "cell_type": "markdown",
   "metadata": {},
   "source": [
    "- no missing values\n",
    "- categortical feature: country, new_user, source\n",
    "- numerical features: age, total_page_visited\n",
    "- target: converted (categorical already encoded)"
   ]
  },
  {
   "cell_type": "code",
   "execution_count": 8,
   "metadata": {},
   "outputs": [],
   "source": [
    "# The dataset is quite big : you must create a sample of the dataset before making any visualizations !\n",
    "#Also let's create a bigger sample to test our models\n",
    "data_sample = data.sample(10000)\n",
    "data_sample2 = data.sample(100000)"
   ]
  },
  {
   "cell_type": "code",
   "execution_count": 16,
   "metadata": {},
   "outputs": [
    {
     "name": "stdout",
     "output_type": "stream",
     "text": [
      "<class 'pandas.core.frame.DataFrame'>\n",
      "Index: 10000 entries, 137998 to 252540\n",
      "Data columns (total 8 columns):\n",
      " #   Column               Non-Null Count  Dtype \n",
      "---  ------               --------------  ----- \n",
      " 0   country              10000 non-null  object\n",
      " 1   age                  10000 non-null  int64 \n",
      " 2   new_user             10000 non-null  int64 \n",
      " 3   source               10000 non-null  object\n",
      " 4   total_pages_visited  10000 non-null  int64 \n",
      " 5   converted            10000 non-null  int64 \n",
      " 6   new_user_str         10000 non-null  object\n",
      " 7   converted_str        10000 non-null  object\n",
      "dtypes: int64(4), object(4)\n",
      "memory usage: 961.2+ KB\n"
     ]
    }
   ],
   "source": [
    "data_sample.info()"
   ]
  },
  {
   "cell_type": "code",
   "execution_count": 9,
   "metadata": {},
   "outputs": [
    {
     "data": {
      "text/plain": [
       "<seaborn.axisgrid.FacetGrid at 0x1e28dfff190>"
      ]
     },
     "execution_count": 9,
     "metadata": {},
     "output_type": "execute_result"
    },
    {
     "data": {
      "image/png": "[encoded data removed]",
      "text/plain": [
       "<Figure size 500x500 with 1 Axes>"
      ]
     },
     "metadata": {},
     "output_type": "display_data"
    }
   ],
   "source": [
    "data_sample['new_user_str']= data_sample[\"new_user\"].replace({0:\"no\",1:\"yes\"})\n",
    "data_sample['converted_str']= data_sample[\"converted\"].replace({0:\"no\",1:\"yes\"})\n",
    "\n",
    "#Visualizing the 'age' distribution\n",
    "sns.displot(data=data_sample, x='age',kde=True)"
   ]
  },
  {
   "cell_type": "markdown",
   "metadata": {},
   "source": [
    "The population tends to be young, with an average around 30 years and moderate dispersion."
   ]
  },
  {
   "cell_type": "code",
   "execution_count": 10,
   "metadata": {},
   "outputs": [
    {
     "data": {
      "text/plain": [
       "[Text(0.5, 1.0, 'Access method preferences by user type')]"
      ]
     },
     "execution_count": 10,
     "metadata": {},
     "output_type": "execute_result"
    },
    {
     "data": {
      "image/png": "[encoded data removed]",
      "text/plain": [
       "<Figure size 640x480 with 1 Axes>"
      ]
     },
     "metadata": {},
     "output_type": "display_data"
    }
   ],
   "source": [
    "sns.countplot(data_sample, x=\"source\", hue=\"new_user_str\",palette='Blues').set(title='Access method preferences by user type')\n"
   ]
  },
  {
   "cell_type": "markdown",
   "metadata": {},
   "source": [
    "The majority of users are either new or do not,  enter through the SEO source.Logically, there is a majority of new users within this category. The other two, Ads and Direct, have similar amounts of both new users and returning users."
   ]
  },
  {
   "cell_type": "code",
   "execution_count": 11,
   "metadata": {},
   "outputs": [
    {
     "data": {
      "image/png": "[encoded data removed]",
      "text/plain": [
       "<Figure size 640x480 with 1 Axes>"
      ]
     },
     "metadata": {},
     "output_type": "display_data"
    }
   ],
   "source": [
    "ax = sns.countplot(x='country',\n",
    "                 hue='converted_str', data=data_sample,palette='Blues')\n",
    "\n",
    "for i in ax.containers:\n",
    "    ax.bar_label(i,)"
   ]
  },
  {
   "cell_type": "markdown",
   "metadata": {},
   "source": [
    "The majority of users come from the US, with China following closely behind. However, it's interesting to note that there were no conversions in that country"
   ]
  },
  {
   "cell_type": "code",
   "execution_count": 14,
   "metadata": {},
   "outputs": [
    {
     "data": {
      "image/png": "[encoded data removed]",
      "text/plain": [
       "<Figure size 640x480 with 1 Axes>"
      ]
     },
     "metadata": {},
     "output_type": "display_data"
    },
    {
     "data": {
      "image/png": "[encoded data removed]",
      "text/plain": [
       "<Figure size 640x480 with 1 Axes>"
      ]
     },
     "metadata": {},
     "output_type": "display_data"
    }
   ],
   "source": [
    "for column in ['age', 'total_pages_visited']:\n",
    "    # Sort the data by column value\n",
    "    data_sample = data_sample.sort_values(column)\n",
    "\n",
    "    # Filter the data\n",
    "    filtered_data = data_sample[data_sample['converted'] == 1]\n",
    "\n",
    "    # Calculate the conversion count\n",
    "    conversion_count = filtered_data.groupby(column).size()\n",
    "\n",
    "    # Plot the conversion count\n",
    "    conversion_count.plot(kind='bar')\n",
    "    plt.title(f\"Distribution of {column} for Converted Users\")\n",
    "    plt.xlabel(column)\n",
    "    plt.ylabel(\"Number of Users\")\n",
    "    plt.show()"
   ]
  },
  {
   "cell_type": "markdown",
   "metadata": {},
   "source": [
    "\n",
    "The majority of the conversions came from individuals under the age of 35 who visited between 10 and 17 pages."
   ]
  },
  {
   "cell_type": "code",
   "execution_count": 15,
   "metadata": {},
   "outputs": [],
   "source": [
    "data_sample.drop(columns=['converted_str', 'new_user_str'],inplace=True)"
   ]
  },
  {
   "cell_type": "markdown",
   "metadata": {},
   "source": [
    "## Data Preprocessing"
   ]
  },
  {
   "cell_type": "code",
   "execution_count": 16,
   "metadata": {},
   "outputs": [
    {
     "name": "stdout",
     "output_type": "stream",
     "text": [
      "Numeric features  ['age', 'total_pages_visited']\n",
      "Categorical features  ['country', 'new_user', 'source']\n"
     ]
    }
   ],
   "source": [
    "X1 = data_sample2.drop(\"converted\", axis=1)\n",
    "y1 = data_sample2[\"converted\"]\n",
    "X_train1, X_test1, y_train1, y_test1 = train_test_split(X1, y1,test_size=0.2, random_state = 0)\n",
    "\n",
    "numeric_features1 = ['age', 'total_pages_visited']\n",
    "categorical_features1 = ['country', 'new_user', 'source']\n",
    "print('Numeric features ', numeric_features1)\n",
    "print('Categorical features ', categorical_features1)\n"
   ]
  },
  {
   "cell_type": "code",
   "execution_count": 17,
   "metadata": {},
   "outputs": [
    {
     "name": "stdout",
     "output_type": "stream",
     "text": [
      "Performing preprocessings on train set...\n",
      "       country  age  new_user  source  total_pages_visited\n",
      "9004     China   30         0     Seo                    4\n",
      "26822    China   34         1     Seo                    2\n",
      "29538    China   32         0  Direct                    2\n",
      "119791   China   47         1     Seo                    8\n",
      "36062       UK   38         1     Seo                    8\n",
      "...Done.\n",
      "[[-0.06735165 -0.26009432  0.          0.          0.          0.\n",
      "   0.          1.        ]\n",
      " [ 0.41570475 -0.85536095  0.          0.          0.          1.\n",
      "   0.          1.        ]\n",
      " [ 0.17417655 -0.85536095  0.          0.          0.          0.\n",
      "   1.          0.        ]\n",
      " [ 1.98563807  0.93043895  0.          0.          0.          1.\n",
      "   0.          1.        ]\n",
      " [ 0.89876116  0.93043895  0.          1.          0.          1.\n",
      "   0.          1.        ]]\n",
      "\n",
      "Performing preprocessings on test set...\n",
      "       country  age  new_user  source  total_pages_visited\n",
      "78171    China   47         0     Seo                    2\n",
      "144450      US   29         1     Ads                    4\n",
      "91430       US   31         1  Direct                    1\n",
      "228242      UK   33         1     Seo                    6\n",
      "5714        US   37         1  Direct                    3\n",
      "...Done.\n",
      "[[ 1.98563807 -0.85536095  0.          0.          0.          0.\n",
      "   0.          1.        ]\n",
      " [-0.18811575 -0.26009432  0.          0.          1.          1.\n",
      "   0.          0.        ]\n",
      " [ 0.05341245 -1.15299427  0.          0.          1.          1.\n",
      "   1.          0.        ]\n",
      " [ 0.29494065  0.33517232  0.          1.          0.          1.\n",
      "   0.          1.        ]\n",
      " [ 0.77799706 -0.55772763  0.          0.          1.          1.\n",
      "   1.          0.        ]]\n"
     ]
    }
   ],
   "source": [
    "# Create pipeline for numeric features\n",
    "numeric_transformer1= Pipeline(steps=[\n",
    "    ('imputer', KNNImputer()), \n",
    "    ('scaler', StandardScaler())\n",
    "])\n",
    "\n",
    "# Create pipeline for categorical features\n",
    "categorical_transformer1 = Pipeline(\n",
    "    steps=[\n",
    "    ('imputer', SimpleImputer(strategy='most_frequent')), # missing values will be replaced by most frequent value\n",
    "    ('encoder', OneHotEncoder(drop='first'))# first column will be dropped to avoid creating correlations between features\n",
    "    ])\n",
    "\n",
    "# Use ColumnTransformer to make a preprocessor object that describes all the treatments to be done\n",
    "preprocessor = ColumnTransformer(\n",
    "    transformers=[\n",
    "        ('num', numeric_transformer1, numeric_features1),\n",
    "        ('cat', categorical_transformer1, categorical_features1)\n",
    "    ])\n",
    "\n",
    "# Preprocessings on train set\n",
    "print(\"Performing preprocessings on train set...\")\n",
    "print(X_train1.head())\n",
    "X_train1 = preprocessor.fit_transform(X_train1)\n",
    "print('...Done.')\n",
    "print(X_train1[0:5]) \n",
    "print()\n",
    "\n",
    "# Preprocessings on test set\n",
    "print(\"Performing preprocessings on test set...\")\n",
    "print(X_test1.head()) \n",
    "X_test1 = preprocessor.transform(X_test1) \n",
    "print('...Done.')\n",
    "print(X_test1[0:5,:])"
   ]
  },
  {
   "cell_type": "markdown",
   "metadata": {},
   "source": [
    "## Model Training and Selection"
   ]
  },
  {
   "cell_type": "markdown",
   "metadata": {},
   "source": [
    "###  Logistic Regression"
   ]
  },
  {
   "cell_type": "code",
   "execution_count": 18,
   "metadata": {},
   "outputs": [
    {
     "name": "stdout",
     "output_type": "stream",
     "text": [
      "Accuracy on training set: 0.985825\n",
      "Accuracy on test set: 0.98565\n",
      "F1-score on training set: 0.7626622017580578\n",
      "F1-score on test set: 0.7466902030008826\n",
      "Confusion matrix on training set:\n",
      "[[77044   301]\n",
      " [  833  1822]]\n",
      "\n",
      "Confusion matrix on test set:\n",
      "[[19290    70]\n",
      " [  217   423]]\n",
      "\n"
     ]
    }
   ],
   "source": [
    "# Initialize Logistic Regression model\n",
    "logistic_regression = LogisticRegression(max_iter=2000, C=0.1)  \n",
    "\n",
    "# fit\n",
    "logistic_regression.fit(X_train1, y_train1)\n",
    "\n",
    "# predict x train\n",
    "y_train_pred_lr = logistic_regression.predict(X_train1)\n",
    "\n",
    "# predict x test\n",
    "y_test_pred_lr = logistic_regression.predict(X_test1)\n",
    "\n",
    "# accurancy \n",
    "accuracy_train = logistic_regression.score(X_train1, y_train1)\n",
    "print(\"Accuracy on training set:\", accuracy_train)\n",
    "\n",
    "\n",
    "accuracy_test = logistic_regression.score(X_test1, y_test1)\n",
    "print(\"Accuracy on test set:\", accuracy_test)\n",
    "\n",
    "# f1 score \n",
    "f1_train = f1_score(y_train1, y_train_pred_lr)\n",
    "f1_test = f1_score(y_test1, y_test_pred_lr)\n",
    "print(\"F1-score on training set:\", f1_train)\n",
    "print(\"F1-score on test set:\", f1_test)\n",
    "\n",
    "# confusion matrix train set\n",
    "print(\"Confusion matrix on training set:\")\n",
    "print(confusion_matrix(y_train1, y_train_pred_lr))\n",
    "print()\n",
    "\n",
    "# confusion matrix test set\n",
    "print(\"Confusion matrix on test set:\")\n",
    "print(confusion_matrix(y_test1, y_test_pred_lr))\n",
    "print()\n"
   ]
  },
  {
   "cell_type": "markdown",
   "metadata": {},
   "source": [
    "The results of the logistic regression model suggest that it is a promising tool for predicting conversion rate. The F1 scores of 0.76 and 0.74 indicate that the model is able to correctly identify most of the users who will convert and the users who will not convert. This is important for conversion rate projects, as it allows marketing teams to focus on the users who are most likely to convert.\n",
    "\n",
    "A closer review of the confusion matrix can provide additional information about the factors that affect conversion rate. For example, the confusion matrix for the training set shows that the model is more accurate at identifying users who will convert than users who will not convert. This suggests that the model may be better suited for identifying users who are most likely to convert.\n",
    "\n",
    "Overall, the results suggest that the logistic regression model is a promising tool for predicting conversion rate. However, it is important to continue testing the model on new data to ensure that it generalizes well."
   ]
  },
  {
   "cell_type": "markdown",
   "metadata": {},
   "source": [
    "### Decision Tree Classifier"
   ]
  },
  {
   "cell_type": "code",
   "execution_count": 20,
   "metadata": {},
   "outputs": [
    {
     "name": "stdout",
     "output_type": "stream",
     "text": [
      "Grid search...\n",
      "...Done.\n",
      "Best hyperparameters :  {'max_depth': 8, 'min_samples_leaf': 5, 'min_samples_split': 4}\n",
      "Best validation accuracy :  0.9843249920262519\n",
      "Predictions on training set...\n",
      "...Done.\n",
      "Predictions on test set...\n",
      "...Done.\n",
      "Accuracy on training set: 0.986425\n",
      "Accuracy on test set: 0.98505\n",
      "F1-score on train set: 0.7749689183588894\n",
      "F1-score on test set: 0.7402258905299739\n"
     ]
    }
   ],
   "source": [
    "\n",
    "# Perform grid search\n",
    "print(\"Grid search...\")\n",
    "classifier_dt = DecisionTreeClassifier()\n",
    "\n",
    "# Grid of values to be tested\n",
    "params = {\n",
    "    \"max_depth\": [4, 6, 8, 10],\n",
    "    \"min_samples_leaf\": [1, 2, 5],\n",
    "    \"min_samples_split\": [2, 4, 8],\n",
    "}\n",
    "gridsearch = GridSearchCV(\n",
    "    classifier_dt, param_grid=params, cv=3\n",
    ")  # cv : the number of folds to be used for CV\n",
    "gridsearch.fit(X_train1, y_train1)\n",
    "print(\"...Done.\")\n",
    "print(\"Best hyperparameters : \", gridsearch.best_params_)\n",
    "print(\"Best validation accuracy : \", gridsearch.best_score_)\n",
    "\n",
    "# Predictions on training set\n",
    "print(\"Predictions on training set...\")\n",
    "Y_train_pred_dt = gridsearch.predict(X_train1)\n",
    "print(\"...Done.\")\n",
    "\n",
    "# Predictions on test set\n",
    "print(\"Predictions on test set...\")\n",
    "Y_test_pred_dt = gridsearch.predict(X_test1)\n",
    "print(\"...Done.\")\n",
    "\n",
    "# Accuracy on training set\n",
    "accuracy_train_dt = gridsearch.score(X_train1, y_train1)\n",
    "print(\"Accuracy on training set:\", accuracy_train_dt)\n",
    "\n",
    "# Accuracy on test set\n",
    "accuracy_test_dt = gridsearch.score(X_test1, y_test1)\n",
    "print(\"Accuracy on test set:\", accuracy_test_dt)\n",
    "\n",
    "# F1-score on train set\n",
    "f1_train_dt = f1_score(y_train1, Y_train_pred_dt)\n",
    "print(\"F1-score on train set:\", f1_train_dt)\n",
    "\n",
    "# F1-score on test set\n",
    "f1_test_dt = f1_score(y_test1, Y_test_pred_dt)\n",
    "print(\"F1-score on test set:\", f1_test_dt)\n"
   ]
  },
  {
   "cell_type": "markdown",
   "metadata": {},
   "source": [
    "### Random Forest"
   ]
  },
  {
   "cell_type": "code",
   "execution_count": 21,
   "metadata": {},
   "outputs": [
    {
     "name": "stdout",
     "output_type": "stream",
     "text": [
      "Best hyperparameters: {'max_depth': 10, 'min_samples_leaf': 6, 'min_samples_split': 2, 'n_estimators': 10}\n",
      "Best validation accuracy: 0.9856250000000001\n",
      "F1-score on train set: 0.7853638593622241\n",
      "F1-score on test set: 0.7459086993970715\n",
      "Confusion matrix on train set:\n",
      "[[77029   316]\n",
      " [  734  1921]]\n",
      "\n",
      "Confusion matrix on test set:\n",
      "[[19272    88]\n",
      " [  207   433]]\n",
      "\n"
     ]
    }
   ],
   "source": [
    "#este completo\n",
    "# RandomForestClassifier Grid Search\n",
    "classifier_rf = RandomForestClassifier()\n",
    "params = {\n",
    "    'max_depth': [4, 8, 10, 12],\n",
    "    'min_samples_leaf': [2, 5, 6],\n",
    "    'min_samples_split': [2, 4, 8],\n",
    "    'n_estimators': [10, 20, 40, 60]\n",
    "}\n",
    "gridsearch_rf = GridSearchCV(classifier_rf, param_grid=params, cv=10)\n",
    "gridsearch_rf.fit(X_train1, y_train1)\n",
    "\n",
    "# Best hyperparameters\n",
    "best_params_rf = gridsearch_rf.best_params_\n",
    "print(\"Best hyperparameters:\", best_params_rf)\n",
    "\n",
    "# Best validation accuracy\n",
    "best_accuracy_rf = gridsearch_rf.best_score_\n",
    "print(\"Best validation accuracy:\", best_accuracy_rf)\n",
    "\n",
    "# Predictions on train set\n",
    "y_train_pred_rf = gridsearch_rf.predict(X_train1)\n",
    "\n",
    "# Predictions on test set\n",
    "y_test_pred_rf = gridsearch_rf.predict(X_test1)\n",
    "\n",
    "# F1-score on train set\n",
    "f1_train_rf = f1_score(y_train1, y_train_pred_rf)\n",
    "print(\"F1-score on train set:\", f1_train_rf)\n",
    "\n",
    "# F1-score on test set\n",
    "f1_test_rf = f1_score(y_test1, y_test_pred_rf)\n",
    "print(\"F1-score on test set:\", f1_test_rf)\n",
    "\n",
    "# Confusion matrix on train set\n",
    "conf_matrix_train_rf = confusion_matrix(y_train1, y_train_pred_rf)\n",
    "print(\"Confusion matrix on train set:\")\n",
    "print(conf_matrix_train_rf)\n",
    "print()\n",
    "\n",
    "# Confusion matrix on test set\n",
    "conf_matrix_test_rf = confusion_matrix(y_test1, y_test_pred_rf)\n",
    "print(\"Confusion matrix on test set:\")\n",
    "print(conf_matrix_test_rf)\n",
    "print()"
   ]
  },
  {
   "cell_type": "markdown",
   "metadata": {},
   "source": [
    "### XGBoost"
   ]
  },
  {
   "cell_type": "code",
   "execution_count": 22,
   "metadata": {},
   "outputs": [
    {
     "name": "stdout",
     "output_type": "stream",
     "text": [
      "Grid search...\n",
      "Fitting 3 folds for each of 120 candidates, totalling 360 fits\n",
      "Best hyperparameters :  {'max_depth': 8, 'min_child_weight': 8, 'n_estimators': 10}\n",
      "Best validation accuracy :  0.9856624964017245\n",
      "Accuracy on training set :  0.986525\n",
      "Accuracy on test set :  0.985\n",
      "f1-score on train set :  0.7780979827089337\n",
      "f1-score on test set :  0.7409326424870466\n",
      "Confusion matrix on train set : \n",
      "[[77032   313]\n",
      " [  765  1890]]\n",
      "\n",
      "Confusion matrix on test set : \n",
      "[[19271    89]\n",
      " [  211   429]]\n",
      "\n"
     ]
    }
   ],
   "source": [
    "\n",
    "# Perform grid search\n",
    "print(\"Grid search...\")\n",
    "xgboost = XGBClassifier()\n",
    "\n",
    "# Grid of values to be tested\n",
    "params = {\n",
    "    'max_depth': [4, 6, 8, 10],\n",
    "    'min_child_weight': [1, 2, 4, 6, 8],\n",
    "    'n_estimators': [2, 4, 6, 8, 10, 12]\n",
    "}\n",
    "gridsearch_xgb = GridSearchCV(xgboost, param_grid = params, cv = 3, verbose = 1) # cv : the number of folds to be used for CV\n",
    "gridsearch_xgb.fit(X_train1, y_train1)\n",
    "\n",
    "print(\"Best hyperparameters : \", gridsearch_xgb.best_params_)\n",
    "print(\"Best validation accuracy : \", gridsearch_xgb.best_score_)\n",
    "\n",
    "print(\"Accuracy on training set : \", gridsearch_xgb.score(X_train1, y_train1))\n",
    "print(\"Accuracy on test set : \", gridsearch_xgb.score(X_test1, y_test1))\n",
    "\n",
    "# Predictions on train set\n",
    "Y_train_pred_xgb = gridsearch_xgb.predict(X_train1)\n",
    "\n",
    "\n",
    "# Predictions on test set\n",
    "Y_test_pred_xgb = gridsearch_xgb.predict(X_test1)\n",
    "\n",
    "\n",
    "print(\"f1-score on train set : \", f1_score(y_train1, Y_train_pred_xgb))\n",
    "print(\"f1-score on test set : \", f1_score(y_test1, Y_test_pred_xgb))\n",
    "\n",
    "# Check more performance metrics\n",
    "print(\"Confusion matrix on train set : \")\n",
    "print(confusion_matrix(y_train1, Y_train_pred_xgb))\n",
    "print()\n",
    "print(\"Confusion matrix on test set : \")\n",
    "print(confusion_matrix(y_test1, Y_test_pred_xgb))\n",
    "print()\n"
   ]
  },
  {
   "cell_type": "code",
   "execution_count": 23,
   "metadata": {},
   "outputs": [
    {
     "data": {
      "text/html": [
       "<div>\n",
       "<style scoped>\n",
       "    .dataframe tbody tr th:only-of-type {\n",
       "        vertical-align: middle;\n",
       "    }\n",
       "\n",
       "    .dataframe tbody tr th {\n",
       "        vertical-align: top;\n",
       "    }\n",
       "\n",
       "    .dataframe thead th {\n",
       "        text-align: right;\n",
       "    }\n",
       "</style>\n",
       "<table border=\"1\" class=\"dataframe\">\n",
       "  <thead>\n",
       "    <tr style=\"text-align: right;\">\n",
       "      <th></th>\n",
       "      <th>Accuracy (Train)</th>\n",
       "      <th>Accuracy (Test)</th>\n",
       "      <th>F1 Score (Train)</th>\n",
       "      <th>F1 Score (Test)</th>\n",
       "    </tr>\n",
       "  </thead>\n",
       "  <tbody>\n",
       "    <tr>\n",
       "      <th>Logistic Regression</th>\n",
       "      <td>0.985825</td>\n",
       "      <td>0.98565</td>\n",
       "      <td>0.762662</td>\n",
       "      <td>0.746690</td>\n",
       "    </tr>\n",
       "    <tr>\n",
       "      <th>Decision Tree</th>\n",
       "      <td>0.986425</td>\n",
       "      <td>0.98505</td>\n",
       "      <td>0.774969</td>\n",
       "      <td>0.740226</td>\n",
       "    </tr>\n",
       "    <tr>\n",
       "      <th>Random Forest</th>\n",
       "      <td>0.986875</td>\n",
       "      <td>0.98525</td>\n",
       "      <td>0.785364</td>\n",
       "      <td>0.745909</td>\n",
       "    </tr>\n",
       "    <tr>\n",
       "      <th>XGBoost</th>\n",
       "      <td>0.986525</td>\n",
       "      <td>0.98500</td>\n",
       "      <td>0.778098</td>\n",
       "      <td>0.740933</td>\n",
       "    </tr>\n",
       "  </tbody>\n",
       "</table>\n",
       "</div>"
      ],
      "text/plain": [
       "                     Accuracy (Train)  Accuracy (Test)  F1 Score (Train)  \\\n",
       "Logistic Regression          0.985825          0.98565          0.762662   \n",
       "Decision Tree                0.986425          0.98505          0.774969   \n",
       "Random Forest                0.986875          0.98525          0.785364   \n",
       "XGBoost                      0.986525          0.98500          0.778098   \n",
       "\n",
       "                     F1 Score (Test)  \n",
       "Logistic Regression         0.746690  \n",
       "Decision Tree               0.740226  \n",
       "Random Forest               0.745909  \n",
       "XGBoost                     0.740933  "
      ]
     },
     "execution_count": 23,
     "metadata": {},
     "output_type": "execute_result"
    }
   ],
   "source": [
    "metrics_dict = {\n",
    "    'Logistic Regression': {\n",
    "        'Accuracy (Train)': accuracy_train,\n",
    "        'Accuracy (Test)': accuracy_test,\n",
    "        'F1 Score (Train)': f1_train,\n",
    "        'F1 Score (Test)': f1_test\n",
    "    },\n",
    "    'Decision Tree': {\n",
    "        'Accuracy (Train)': accuracy_train_dt,\n",
    "        'Accuracy (Test)': accuracy_test_dt,\n",
    "        'F1 Score (Train)': f1_train_dt,\n",
    "        'F1 Score (Test)': f1_test_dt\n",
    "    },\n",
    "    'Random Forest': {\n",
    "        'Accuracy (Train)': gridsearch_rf.score(X_train1, y_train1),\n",
    "        'Accuracy (Test)': gridsearch_rf.score(X_test1, y_test1),\n",
    "        'F1 Score (Train)': f1_train_rf,\n",
    "        'F1 Score (Test)': f1_test_rf\n",
    "    },\n",
    "    'XGBoost': {\n",
    "        'Accuracy (Train)': gridsearch_xgb.score(X_train1, y_train1),\n",
    "        'Accuracy (Test)': gridsearch_xgb.score(X_test1, y_test1),\n",
    "        'F1 Score (Train)': f1_score(y_train1, Y_train_pred_xgb),\n",
    "        'F1 Score (Test)': f1_score(y_test1, Y_test_pred_xgb)\n",
    "    }\n",
    "}\n",
    "\n",
    "# DataFrame with all metrics\n",
    "metrics_df = pd.DataFrame(metrics_dict)\n",
    "metrics_df = metrics_df.T\n",
    "\n",
    "metrics_df\n"
   ]
  },
  {
   "cell_type": "markdown",
   "metadata": {},
   "source": [
    "Based on the provided metrics, the model that seems to be the most suitable is Logistic Regression or XGB. It has high accuracy on both the training and test data, and its F1 score is quite good on both datasets.\n",
    "\n",
    "Regarding overfitting, it appears not to be a significant issue in any of the models, as the differences between the training and test metrics are minimal in all cases."
   ]
  },
  {
   "cell_type": "markdown",
   "metadata": {},
   "source": [
    "## Train conversion_data_test"
   ]
  },
  {
   "cell_type": "markdown",
   "metadata": {},
   "source": [
    " - Choose best model and train data_train and data_test\n",
    " - Concatenate our train and test set to train your best classifier on all data"
   ]
  },
  {
   "cell_type": "code",
   "execution_count": null,
   "metadata": {},
   "outputs": [
    {
     "data": {
      "text/html": [
       "<style>#sk-container-id-3 {\n",
       "  /* Definition of color scheme common for light and dark mode */\n",
       "  --sklearn-color-text: black;\n",
       "  --sklearn-color-line: gray;\n",
       "  /* Definition of color scheme for unfitted estimators */\n",
       "  --sklearn-color-unfitted-level-0: #fff5e6;\n",
       "  --sklearn-color-unfitted-level-1: #f6e4d2;\n",
       "  --sklearn-color-unfitted-level-2: #ffe0b3;\n",
       "  --sklearn-color-unfitted-level-3: chocolate;\n",
       "  /* Definition of color scheme for fitted estimators */\n",
       "  --sklearn-color-fitted-level-0: #f0f8ff;\n",
       "  --sklearn-color-fitted-level-1: #d4ebff;\n",
       "  --sklearn-color-fitted-level-2: #b3dbfd;\n",
       "  --sklearn-color-fitted-level-3: cornflowerblue;\n",
       "\n",
       "  /* Specific color for light theme */\n",
       "  --sklearn-color-text-on-default-background: var(--sg-text-color, var(--theme-code-foreground, var(--jp-content-font-color1, black)));\n",
       "  --sklearn-color-background: var(--sg-background-color, var(--theme-background, var(--jp-layout-color0, white)));\n",
       "  --sklearn-color-border-box: var(--sg-text-color, var(--theme-code-foreground, var(--jp-content-font-color1, black)));\n",
       "  --sklearn-color-icon: #696969;\n",
       "\n",
       "  @media (prefers-color-scheme: dark) {\n",
       "    /* Redefinition of color scheme for dark theme */\n",
       "    --sklearn-color-text-on-default-background: var(--sg-text-color, var(--theme-code-foreground, var(--jp-content-font-color1, white)));\n",
       "    --sklearn-color-background: var(--sg-background-color, var(--theme-background, var(--jp-layout-color0, #111)));\n",
       "    --sklearn-color-border-box: var(--sg-text-color, var(--theme-code-foreground, var(--jp-content-font-color1, white)));\n",
       "    --sklearn-color-icon: #878787;\n",
       "  }\n",
       "}\n",
       "\n",
       "#sk-container-id-3 {\n",
       "  color: var(--sklearn-color-text);\n",
       "}\n",
       "\n",
       "#sk-container-id-3 pre {\n",
       "  padding: 0;\n",
       "}\n",
       "\n",
       "#sk-container-id-3 input.sk-hidden--visually {\n",
       "  border: 0;\n",
       "  clip: rect(1px 1px 1px 1px);\n",
       "  clip: rect(1px, 1px, 1px, 1px);\n",
       "  height: 1px;\n",
       "  margin: -1px;\n",
       "  overflow: hidden;\n",
       "  padding: 0;\n",
       "  position: absolute;\n",
       "  width: 1px;\n",
       "}\n",
       "\n",
       "#sk-container-id-3 div.sk-dashed-wrapped {\n",
       "  border: 1px dashed var(--sklearn-color-line);\n",
       "  margin: 0 0.4em 0.5em 0.4em;\n",
       "  box-sizing: border-box;\n",
       "  padding-bottom: 0.4em;\n",
       "  background-color: var(--sklearn-color-background);\n",
       "}\n",
       "\n",
       "#sk-container-id-3 div.sk-container {\n",
       "  /* jupyter's `normalize.less` sets `[hidden] { display: none; }`\n",
       "     but bootstrap.min.css set `[hidden] { display: none !important; }`\n",
       "     so we also need the `!important` here to be able to override the\n",
       "     default hidden behavior on the sphinx rendered scikit-learn.org.\n",
       "     See: https://github.com/scikit-learn/scikit-learn/issues/21755 */\n",
       "  display: inline-block !important;\n",
       "  position: relative;\n",
       "}\n",
       "\n",
       "#sk-container-id-3 div.sk-text-repr-fallback {\n",
       "  display: none;\n",
       "}\n",
       "\n",
       "div.sk-parallel-item,\n",
       "div.sk-serial,\n",
       "div.sk-item {\n",
       "  /* draw centered vertical line to link estimators */\n",
       "  background-image: linear-gradient(var(--sklearn-color-text-on-default-background), var(--sklearn-color-text-on-default-background));\n",
       "  background-size: 2px 100%;\n",
       "  background-repeat: no-repeat;\n",
       "  background-position: center center;\n",
       "}\n",
       "\n",
       "/* Parallel-specific style estimator block */\n",
       "\n",
       "#sk-container-id-3 div.sk-parallel-item::after {\n",
       "  content: \"\";\n",
       "  width: 100%;\n",
       "  border-bottom: 2px solid var(--sklearn-color-text-on-default-background);\n",
       "  flex-grow: 1;\n",
       "}\n",
       "\n",
       "#sk-container-id-3 div.sk-parallel {\n",
       "  display: flex;\n",
       "  align-items: stretch;\n",
       "  justify-content: center;\n",
       "  background-color: var(--sklearn-color-background);\n",
       "  position: relative;\n",
       "}\n",
       "\n",
       "#sk-container-id-3 div.sk-parallel-item {\n",
       "  display: flex;\n",
       "  flex-direction: column;\n",
       "}\n",
       "\n",
       "#sk-container-id-3 div.sk-parallel-item:first-child::after {\n",
       "  align-self: flex-end;\n",
       "  width: 50%;\n",
       "}\n",
       "\n",
       "#sk-container-id-3 div.sk-parallel-item:last-child::after {\n",
       "  align-self: flex-start;\n",
       "  width: 50%;\n",
       "}\n",
       "\n",
       "#sk-container-id-3 div.sk-parallel-item:only-child::after {\n",
       "  width: 0;\n",
       "}\n",
       "\n",
       "/* Serial-specific style estimator block */\n",
       "\n",
       "#sk-container-id-3 div.sk-serial {\n",
       "  display: flex;\n",
       "  flex-direction: column;\n",
       "  align-items: center;\n",
       "  background-color: var(--sklearn-color-background);\n",
       "  padding-right: 1em;\n",
       "  padding-left: 1em;\n",
       "}\n",
       "\n",
       "\n",
       "/* Toggleable style: style used for estimator/Pipeline/ColumnTransformer box that is\n",
       "clickable and can be expanded/collapsed.\n",
       "- Pipeline and ColumnTransformer use this feature and define the default style\n",
       "- Estimators will overwrite some part of the style using the `sk-estimator` class\n",
       "*/\n",
       "\n",
       "/* Pipeline and ColumnTransformer style (default) */\n",
       "\n",
       "#sk-container-id-3 div.sk-toggleable {\n",
       "  /* Default theme specific background. It is overwritten whether we have a\n",
       "  specific estimator or a Pipeline/ColumnTransformer */\n",
       "  background-color: var(--sklearn-color-background);\n",
       "}\n",
       "\n",
       "/* Toggleable label */\n",
       "#sk-container-id-3 label.sk-toggleable__label {\n",
       "  cursor: pointer;\n",
       "  display: block;\n",
       "  width: 100%;\n",
       "  margin-bottom: 0;\n",
       "  padding: 0.5em;\n",
       "  box-sizing: border-box;\n",
       "  text-align: center;\n",
       "}\n",
       "\n",
       "#sk-container-id-3 label.sk-toggleable__label-arrow:before {\n",
       "  /* Arrow on the left of the label */\n",
       "  content: \"▸\";\n",
       "  float: left;\n",
       "  margin-right: 0.25em;\n",
       "  color: var(--sklearn-color-icon);\n",
       "}\n",
       "\n",
       "#sk-container-id-3 label.sk-toggleable__label-arrow:hover:before {\n",
       "  color: var(--sklearn-color-text);\n",
       "}\n",
       "\n",
       "/* Toggleable content - dropdown */\n",
       "\n",
       "#sk-container-id-3 div.sk-toggleable__content {\n",
       "  max-height: 0;\n",
       "  max-width: 0;\n",
       "  overflow: hidden;\n",
       "  text-align: left;\n",
       "  /* unfitted */\n",
       "  background-color: var(--sklearn-color-unfitted-level-0);\n",
       "}\n",
       "\n",
       "#sk-container-id-3 div.sk-toggleable__content.fitted {\n",
       "  /* fitted */\n",
       "  background-color: var(--sklearn-color-fitted-level-0);\n",
       "}\n",
       "\n",
       "#sk-container-id-3 div.sk-toggleable__content pre {\n",
       "  margin: 0.2em;\n",
       "  border-radius: 0.25em;\n",
       "  color: var(--sklearn-color-text);\n",
       "  /* unfitted */\n",
       "  background-color: var(--sklearn-color-unfitted-level-0);\n",
       "}\n",
       "\n",
       "#sk-container-id-3 div.sk-toggleable__content.fitted pre {\n",
       "  /* unfitted */\n",
       "  background-color: var(--sklearn-color-fitted-level-0);\n",
       "}\n",
       "\n",
       "#sk-container-id-3 input.sk-toggleable__control:checked~div.sk-toggleable__content {\n",
       "  /* Expand drop-down */\n",
       "  max-height: 200px;\n",
       "  max-width: 100%;\n",
       "  overflow: auto;\n",
       "}\n",
       "\n",
       "#sk-container-id-3 input.sk-toggleable__control:checked~label.sk-toggleable__label-arrow:before {\n",
       "  content: \"▾\";\n",
       "}\n",
       "\n",
       "/* Pipeline/ColumnTransformer-specific style */\n",
       "\n",
       "#sk-container-id-3 div.sk-label input.sk-toggleable__control:checked~label.sk-toggleable__label {\n",
       "  color: var(--sklearn-color-text);\n",
       "  background-color: var(--sklearn-color-unfitted-level-2);\n",
       "}\n",
       "\n",
       "#sk-container-id-3 div.sk-label.fitted input.sk-toggleable__control:checked~label.sk-toggleable__label {\n",
       "  background-color: var(--sklearn-color-fitted-level-2);\n",
       "}\n",
       "\n",
       "/* Estimator-specific style */\n",
       "\n",
       "/* Colorize estimator box */\n",
       "#sk-container-id-3 div.sk-estimator input.sk-toggleable__control:checked~label.sk-toggleable__label {\n",
       "  /* unfitted */\n",
       "  background-color: var(--sklearn-color-unfitted-level-2);\n",
       "}\n",
       "\n",
       "#sk-container-id-3 div.sk-estimator.fitted input.sk-toggleable__control:checked~label.sk-toggleable__label {\n",
       "  /* fitted */\n",
       "  background-color: var(--sklearn-color-fitted-level-2);\n",
       "}\n",
       "\n",
       "#sk-container-id-3 div.sk-label label.sk-toggleable__label,\n",
       "#sk-container-id-3 div.sk-label label {\n",
       "  /* The background is the default theme color */\n",
       "  color: var(--sklearn-color-text-on-default-background);\n",
       "}\n",
       "\n",
       "/* On hover, darken the color of the background */\n",
       "#sk-container-id-3 div.sk-label:hover label.sk-toggleable__label {\n",
       "  color: var(--sklearn-color-text);\n",
       "  background-color: var(--sklearn-color-unfitted-level-2);\n",
       "}\n",
       "\n",
       "/* Label box, darken color on hover, fitted */\n",
       "#sk-container-id-3 div.sk-label.fitted:hover label.sk-toggleable__label.fitted {\n",
       "  color: var(--sklearn-color-text);\n",
       "  background-color: var(--sklearn-color-fitted-level-2);\n",
       "}\n",
       "\n",
       "/* Estimator label */\n",
       "\n",
       "#sk-container-id-3 div.sk-label label {\n",
       "  font-family: monospace;\n",
       "  font-weight: bold;\n",
       "  display: inline-block;\n",
       "  line-height: 1.2em;\n",
       "}\n",
       "\n",
       "#sk-container-id-3 div.sk-label-container {\n",
       "  text-align: center;\n",
       "}\n",
       "\n",
       "/* Estimator-specific */\n",
       "#sk-container-id-3 div.sk-estimator {\n",
       "  font-family: monospace;\n",
       "  border: 1px dotted var(--sklearn-color-border-box);\n",
       "  border-radius: 0.25em;\n",
       "  box-sizing: border-box;\n",
       "  margin-bottom: 0.5em;\n",
       "  /* unfitted */\n",
       "  background-color: var(--sklearn-color-unfitted-level-0);\n",
       "}\n",
       "\n",
       "#sk-container-id-3 div.sk-estimator.fitted {\n",
       "  /* fitted */\n",
       "  background-color: var(--sklearn-color-fitted-level-0);\n",
       "}\n",
       "\n",
       "/* on hover */\n",
       "#sk-container-id-3 div.sk-estimator:hover {\n",
       "  /* unfitted */\n",
       "  background-color: var(--sklearn-color-unfitted-level-2);\n",
       "}\n",
       "\n",
       "#sk-container-id-3 div.sk-estimator.fitted:hover {\n",
       "  /* fitted */\n",
       "  background-color: var(--sklearn-color-fitted-level-2);\n",
       "}\n",
       "\n",
       "/* Specification for estimator info (e.g. \"i\" and \"?\") */\n",
       "\n",
       "/* Common style for \"i\" and \"?\" */\n",
       "\n",
       ".sk-estimator-doc-link,\n",
       "a:link.sk-estimator-doc-link,\n",
       "a:visited.sk-estimator-doc-link {\n",
       "  float: right;\n",
       "  font-size: smaller;\n",
       "  line-height: 1em;\n",
       "  font-family: monospace;\n",
       "  background-color: var(--sklearn-color-background);\n",
       "  border-radius: 1em;\n",
       "  height: 1em;\n",
       "  width: 1em;\n",
       "  text-decoration: none !important;\n",
       "  margin-left: 1ex;\n",
       "  /* unfitted */\n",
       "  border: var(--sklearn-color-unfitted-level-1) 1pt solid;\n",
       "  color: var(--sklearn-color-unfitted-level-1);\n",
       "}\n",
       "\n",
       ".sk-estimator-doc-link.fitted,\n",
       "a:link.sk-estimator-doc-link.fitted,\n",
       "a:visited.sk-estimator-doc-link.fitted {\n",
       "  /* fitted */\n",
       "  border: var(--sklearn-color-fitted-level-1) 1pt solid;\n",
       "  color: var(--sklearn-color-fitted-level-1);\n",
       "}\n",
       "\n",
       "/* On hover */\n",
       "div.sk-estimator:hover .sk-estimator-doc-link:hover,\n",
       ".sk-estimator-doc-link:hover,\n",
       "div.sk-label-container:hover .sk-estimator-doc-link:hover,\n",
       ".sk-estimator-doc-link:hover {\n",
       "  /* unfitted */\n",
       "  background-color: var(--sklearn-color-unfitted-level-3);\n",
       "  color: var(--sklearn-color-background);\n",
       "  text-decoration: none;\n",
       "}\n",
       "\n",
       "div.sk-estimator.fitted:hover .sk-estimator-doc-link.fitted:hover,\n",
       ".sk-estimator-doc-link.fitted:hover,\n",
       "div.sk-label-container:hover .sk-estimator-doc-link.fitted:hover,\n",
       ".sk-estimator-doc-link.fitted:hover {\n",
       "  /* fitted */\n",
       "  background-color: var(--sklearn-color-fitted-level-3);\n",
       "  color: var(--sklearn-color-background);\n",
       "  text-decoration: none;\n",
       "}\n",
       "\n",
       "/* Span, style for the box shown on hovering the info icon */\n",
       ".sk-estimator-doc-link span {\n",
       "  display: none;\n",
       "  z-index: 9999;\n",
       "  position: relative;\n",
       "  font-weight: normal;\n",
       "  right: .2ex;\n",
       "  padding: .5ex;\n",
       "  margin: .5ex;\n",
       "  width: min-content;\n",
       "  min-width: 20ex;\n",
       "  max-width: 50ex;\n",
       "  color: var(--sklearn-color-text);\n",
       "  box-shadow: 2pt 2pt 4pt #999;\n",
       "  /* unfitted */\n",
       "  background: var(--sklearn-color-unfitted-level-0);\n",
       "  border: .5pt solid var(--sklearn-color-unfitted-level-3);\n",
       "}\n",
       "\n",
       ".sk-estimator-doc-link.fitted span {\n",
       "  /* fitted */\n",
       "  background: var(--sklearn-color-fitted-level-0);\n",
       "  border: var(--sklearn-color-fitted-level-3);\n",
       "}\n",
       "\n",
       ".sk-estimator-doc-link:hover span {\n",
       "  display: block;\n",
       "}\n",
       "\n",
       "/* \"?\"-specific style due to the `<a>` HTML tag */\n",
       "\n",
       "#sk-container-id-3 a.estimator_doc_link {\n",
       "  float: right;\n",
       "  font-size: 1rem;\n",
       "  line-height: 1em;\n",
       "  font-family: monospace;\n",
       "  background-color: var(--sklearn-color-background);\n",
       "  border-radius: 1rem;\n",
       "  height: 1rem;\n",
       "  width: 1rem;\n",
       "  text-decoration: none;\n",
       "  /* unfitted */\n",
       "  color: var(--sklearn-color-unfitted-level-1);\n",
       "  border: var(--sklearn-color-unfitted-level-1) 1pt solid;\n",
       "}\n",
       "\n",
       "#sk-container-id-3 a.estimator_doc_link.fitted {\n",
       "  /* fitted */\n",
       "  border: var(--sklearn-color-fitted-level-1) 1pt solid;\n",
       "  color: var(--sklearn-color-fitted-level-1);\n",
       "}\n",
       "\n",
       "/* On hover */\n",
       "#sk-container-id-3 a.estimator_doc_link:hover {\n",
       "  /* unfitted */\n",
       "  background-color: var(--sklearn-color-unfitted-level-3);\n",
       "  color: var(--sklearn-color-background);\n",
       "  text-decoration: none;\n",
       "}\n",
       "\n",
       "#sk-container-id-3 a.estimator_doc_link.fitted:hover {\n",
       "  /* fitted */\n",
       "  background-color: var(--sklearn-color-fitted-level-3);\n",
       "}\n",
       "</style><div id=\"sk-container-id-3\" class=\"sk-top-container\"><div class=\"sk-text-repr-fallback\"><pre>LogisticRegression(C=0.1, max_iter=2000)</pre><b>In a Jupyter environment, please rerun this cell to show the HTML representation or trust the notebook. <br />On GitHub, the HTML representation is unable to render, please try loading this page with nbviewer.org.</b></div><div class=\"sk-container\" hidden><div class=\"sk-item\"><div class=\"sk-estimator fitted sk-toggleable\"><input class=\"sk-toggleable__control sk-hidden--visually\" id=\"sk-estimator-id-9\" type=\"checkbox\" checked><label for=\"sk-estimator-id-9\" class=\"sk-toggleable__label fitted sk-toggleable__label-arrow fitted\">&nbsp;&nbsp;LogisticRegression<a class=\"sk-estimator-doc-link fitted\" rel=\"noreferrer\" target=\"_blank\" href=\"https://scikit-learn.org/1.4/modules/generated/sklearn.linear_model.LogisticRegression.html\">?<span>Documentation for LogisticRegression</span></a><span class=\"sk-estimator-doc-link fitted\">i<span>Fitted</span></span></label><div class=\"sk-toggleable__content fitted\"><pre>LogisticRegression(C=0.1, max_iter=2000)</pre></div> </div></div></div></div>"
      ],
      "text/plain": [
       "LogisticRegression(C=0.1, max_iter=2000)"
      ]
     },
     "execution_count": 52,
     "metadata": {},
     "output_type": "execute_result"
    }
   ],
   "source": [
    "X2 = np.append(X_train1,X_test1,axis=0)\n",
    "Y2 = np.append(y_train1,y_test1)\n",
    "\n",
    "logistic_regression.fit(X2,Y2)"
   ]
  },
  {
   "cell_type": "code",
   "execution_count": null,
   "metadata": {},
   "outputs": [
    {
     "name": "stdout",
     "output_type": "stream",
     "text": [
      "Prediction set (without labels) : (31620, 5)\n"
     ]
    }
   ],
   "source": [
    "# Read data without labels\n",
    "data_without_labels = pd.read_csv('conversion_data_test.csv')\n",
    "print('Prediction set (without labels) :', data_without_labels.shape)\n"
   ]
  },
  {
   "cell_type": "code",
   "execution_count": null,
   "metadata": {},
   "outputs": [
    {
     "name": "stdout",
     "output_type": "stream",
     "text": [
      "Convert pandas DataFrames to numpy arrays...\n",
      "...Done\n",
      "[['UK' 28 0 'Seo' 16]\n",
      " ['UK' 22 1 'Direct' 5]\n",
      " ['China' 32 1 'Seo' 1]\n",
      " ['US' 32 1 'Ads' 6]\n",
      " ['China' 25 0 'Seo' 3]]\n"
     ]
    }
   ],
   "source": [
    "# Warning : check consistency of features_list (must be the same than the features \n",
    "# used by your best classifier)\n",
    "features_list =  ['country', 'age', 'new_user', 'source', 'total_pages_visited']\n",
    "target_variable = ['converted']\n",
    "X_without_labels = data_without_labels.loc[:, features_list]\n",
    "\n",
    "# Convert pandas DataFrames to numpy arrays before using scikit-learn\n",
    "print(\"Convert pandas DataFrames to numpy arrays...\")\n",
    "X_without_labels = X_without_labels.values\n",
    "print(\"...Done\")\n",
    "\n",
    "print(X_without_labels[0:5,:])"
   ]
  },
  {
   "cell_type": "code",
   "execution_count": null,
   "metadata": {},
   "outputs": [],
   "source": [
    "X_without_labels = data_without_labels.loc[:, features_list]"
   ]
  },
  {
   "cell_type": "code",
   "execution_count": null,
   "metadata": {},
   "outputs": [
    {
     "name": "stdout",
     "output_type": "stream",
     "text": [
      "Encoding categorical features and standardizing numerical features...\n",
      "...Done\n"
     ]
    }
   ],
   "source": [
    "## preprocessing on the test data set\n",
    "print(\"Encoding categorical features and standardizing numerical features...\")\n",
    "X_without_labels = preprocessor.transform(X_without_labels)\n",
    "print(\"...Done\")\n"
   ]
  },
  {
   "cell_type": "code",
   "execution_count": null,
   "metadata": {},
   "outputs": [],
   "source": [
    "# Make predictions and dump to file\n",
    "data = {\n",
    "    'converted': logistic_regression.predict(X_without_labels)\n",
    "}\n",
    "\n",
    "Y_predictions = pd.DataFrame(columns=['converted'],data=data)\n",
    "Y_predictions.to_csv('conversion_data_test_predictions_lr.csv', index=False)\n"
   ]
  }
 ],
 "metadata": {
  "kernelspec": {
   "display_name": "Python 3",
   "language": "python",
   "name": "python3"
  },
  "language_info": {
   "codemirror_mode": {
    "name": "ipython",
    "version": 3
   },
   "file_extension": ".py",
   "mimetype": "text/x-python",
   "name": "python",
   "nbconvert_exporter": "python",
   "pygments_lexer": "ipython3",
   "version": "3.11.2"
  }
 },
 "nbformat": 4,
 "nbformat_minor": 2
}
